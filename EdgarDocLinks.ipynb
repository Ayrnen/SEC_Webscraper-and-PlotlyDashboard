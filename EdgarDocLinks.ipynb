{
 "cells": [
  {
   "cell_type": "code",
   "execution_count": 1,
   "id": "8eaba195-b9dc-454e-82b2-365dabf2beaf",
   "metadata": {},
   "outputs": [],
   "source": [
    "import requests\n",
    "import json\n",
    "from bs4 import BeautifulSoup\n",
    "import pandas as pd"
   ]
  },
  {
   "cell_type": "code",
   "execution_count": 2,
   "id": "e3d2059e-6743-4f1e-b3bf-1ddcdd2cba31",
   "metadata": {},
   "outputs": [
    {
     "name": "stdout",
     "output_type": "stream",
     "text": [
      "https://www.sec.gov/cgi-bin/browse-edgar?action=getcompany&CIK=&type=10-k&dateb=&owner=exclude&start=&output=atom&count=&xbrl_type=&company=Newmont\n"
     ]
    }
   ],
   "source": [
    "endpoint = r\"https://www.sec.gov/cgi-bin/browse-edgar\"\n",
    "\n",
    "headers = {'User-Agent':'ModernMerchants AdminContact@https://modernmerchants.squarespace.com'}\n",
    "\n",
    "#variable inputs\n",
    "cikInput=''\n",
    "typeInput='10-k'\n",
    "startInput=''\n",
    "datebInput=''\n",
    "companyInput='Newmont'\n",
    "ownerInput='exclude'\n",
    "\n",
    "# company=nem&match=&filenum=&State=&Country=&SIC=&myowner=exclude&action=getcompany\n",
    "\n",
    "\n",
    "param_dict={\n",
    "    'action':'getcompany',\n",
    "    'CIK': cikInput,\n",
    "    'type': typeInput,\n",
    "    'dateb':'',\n",
    "    'owner': ownerInput,\n",
    "    'start': startInput,\n",
    "    'output':'atom',\n",
    "    'count':'',\n",
    "    'xbrl_type':'',\n",
    "    'company': companyInput,\n",
    "}\n",
    "response=requests.get(url=endpoint, params=param_dict, headers=headers)\n",
    "#print status code\n",
    "if response.status_code != 200:\n",
    "    print('request error')\n",
    "print(response.url)"
   ]
  },
  {
   "cell_type": "code",
   "execution_count": 3,
   "id": "18579b01-cc61-4fd5-935e-238744e93935",
   "metadata": {},
   "outputs": [
    {
     "name": "stdout",
     "output_type": "stream",
     "text": [
      "        Company Name  CIK Number\n",
      "0  NEWMONT Corp /DE/  0001164727\n",
      "1    NEWMONT USA LTD  0000071824\n",
      "2    NEWMONT GOLD CO  0000793308\n"
     ]
    }
   ],
   "source": [
    "soup = BeautifulSoup(response.content, parser='lxml')\n",
    "ciks=[x.text for x in soup.findAll('cik')]\n",
    "names=[x.text for x in soup.findAll('name')]\n",
    "names.remove('Webmaster')\n",
    "choices=pd.DataFrame({'Company Name':names, 'CIK Number':ciks})\n",
    "print(choices.head())\n",
    "\n",
    "choiceInput=0\n",
    "cik=choices['CIK Number'][choiceInput]\n",
    "name=choices['Company Name'][choiceInput]"
   ]
  },
  {
   "cell_type": "code",
   "execution_count": 4,
   "id": "a3ea53ee-e8c8-41e7-922d-24f0c2f5c397",
   "metadata": {},
   "outputs": [
    {
     "name": "stdout",
     "output_type": "stream",
     "text": [
      "NEWMONT Corp /DE/\n",
      "https://www.sec.gov/cgi-bin/browse-edgar?action=getcompany&CIK=0001164727&type=10-k&dateb=20190101&owner=exclude&start=&output=atom&count=100&xbrl_type=&company=\n"
     ]
    }
   ],
   "source": [
    "print(name)\n",
    "cikInput=cik\n",
    "param_dict={\n",
    "    'action':'getcompany',\n",
    "    'CIK': cikInput,\n",
    "    'type': typeInput,\n",
    "    'dateb':'20190101',\n",
    "    'owner': ownerInput,\n",
    "    'start': startInput,\n",
    "    'output':'atom',\n",
    "    'count':'100',\n",
    "    'xbrl_type':'',\n",
    "    'company':'',\n",
    "}\n",
    "response=requests.get(url=endpoint, params=param_dict, headers=headers)\n",
    "print(response.url)\n",
    "\n",
    "#print status code\n",
    "if response.status_code != 200:\n",
    "    print('request error')\n",
    "    \n",
    "soup = BeautifulSoup(response.content, parser='lxml')"
   ]
  },
  {
   "cell_type": "code",
   "execution_count": 5,
   "id": "af351f64-9d6e-4b4c-a575-0108f6fbb14e",
   "metadata": {},
   "outputs": [
    {
     "name": "stdout",
     "output_type": "stream",
     "text": [
      "  Document Type        Date  \\\n",
      "0          10-K  2018-02-22   \n",
      "1          10-K  2017-02-21   \n",
      "2          10-K  2016-02-17   \n",
      "3          10-K  2015-02-20   \n",
      "4          10-K  2014-02-21   \n",
      "\n",
      "                                                                                       Document Link  \n",
      "0  https://www.sec.gov/Archives/edgar/data/1164727/000155837018000894/0001558370-18-000894-index.htm  \n",
      "1  https://www.sec.gov/Archives/edgar/data/1164727/000155837017000729/0001558370-17-000729-index.htm  \n",
      "2  https://www.sec.gov/Archives/edgar/data/1164727/000155837016003258/0001558370-16-003258-index.htm  \n",
      "3  https://www.sec.gov/Archives/edgar/data/1164727/000156459015000777/0001564590-15-000777-index.htm  \n",
      "4  https://www.sec.gov/Archives/edgar/data/1164727/000119312514061205/0001193125-14-061205-index.htm  \n",
      "https://www.sec.gov/Archives/edgar/data/1164727/000155837018000894/0001558370-18-000894-index.htm\n"
     ]
    }
   ],
   "source": [
    "dates=[x.text for x in soup.findAll('filing-date')]\n",
    "hrefs=[x.text for x in soup.findAll('filing-href')]\n",
    "types=[x.text for x in soup.findAll('filing-type')]\n",
    "choices=pd.DataFrame({'Document Type':types, 'Date':dates, 'Document Link':hrefs})\n",
    "pd.set_option('display.max_colwidth', None)\n",
    "print(choices.head(5))\n",
    "choice=0\n",
    "linkChoice=choices['Document Link'][choice]\n",
    "\n",
    "response=requests.get(url=linkChoice, headers=headers)\n",
    "print(response.url)\n",
    "#print status code\n",
    "if response.status_code != 200:\n",
    "    print('request error')\n",
    "soup = BeautifulSoup(response.content, parser='html.parser')"
   ]
  },
  {
   "cell_type": "code",
   "execution_count": 13,
   "id": "14b7b5ee-d919-4a2e-b7b5-ed645d855744",
   "metadata": {},
   "outputs": [
    {
     "name": "stdout",
     "output_type": "stream",
     "text": [
      "nem-20171231x10k.htm\n",
      "https://www.sec.gov/Archives/edgar/data/1164727/000155837018000894/nem-20171231x10k.htm\n"
     ]
    }
   ],
   "source": [
    "a='https://www.sec.gov'\n",
    "\n",
    "print(q[0])\n",
    "#Document Number Into 'C'\n",
    "q=soup.select(\"a[href*='Archives']\")\n",
    "q=soup.findAll('a[href*=\"Archives\"]')\n",
    "\n",
    "typeInput=typeInput.replace('-', '')\n",
    "q=soup.select(\"a[href*='\"+typeInput+\"']\")\n",
    "print(a+q[0]['href'])"
   ]
  }
 ],
 "metadata": {
  "kernelspec": {
   "display_name": "Python 3 (ipykernel)",
   "language": "python",
   "name": "python3"
  },
  "language_info": {
   "codemirror_mode": {
    "name": "ipython",
    "version": 3
   },
   "file_extension": ".py",
   "mimetype": "text/x-python",
   "name": "python",
   "nbconvert_exporter": "python",
   "pygments_lexer": "ipython3",
   "version": "3.8.2"
  }
 },
 "nbformat": 4,
 "nbformat_minor": 5
}
